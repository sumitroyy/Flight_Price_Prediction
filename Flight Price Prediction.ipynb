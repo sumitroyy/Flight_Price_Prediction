{
 "cells": [
  {
   "cell_type": "markdown",
   "metadata": {},
   "source": [
    "### Load libraries"
   ]
  },
  {
   "cell_type": "code",
   "execution_count": 247,
   "metadata": {},
   "outputs": [],
   "source": [
    "import pandas as pd \n",
    "import numpy as np\n",
    "import matplotlib.pyplot as plt\n",
    "import seaborn as sns\n",
    "from scipy import stats\n",
    "\n",
    "import warnings\n",
    "warnings.filterwarnings('ignore')"
   ]
  },
  {
   "cell_type": "markdown",
   "metadata": {},
   "source": [
    "### Data collection"
   ]
  },
  {
   "cell_type": "code",
   "execution_count": 3,
   "metadata": {},
   "outputs": [
    {
     "name": "stdout",
     "output_type": "stream",
     "text": [
      "Train shape: 10683\n",
      "Test shape: 2671\n"
     ]
    }
   ],
   "source": [
    "train_df = pd.read_excel('Data\\Data_Train.xlsx')\n",
    "test_df = pd.read_excel('Data\\Test_set.xlsx')\n",
    "\n",
    "print(\"Train shape:\",train_df.shape[0])\n",
    "print(\"Test shape:\",test_df.shape[0])"
   ]
  },
  {
   "cell_type": "markdown",
   "metadata": {},
   "source": [
    "### Feature engineering"
   ]
  },
  {
   "cell_type": "code",
   "execution_count": 4,
   "metadata": {},
   "outputs": [],
   "source": [
    "# concat the train and test datasets\n",
    "df = pd.concat([train_df, test_df], ignore_index=True, axis=0)"
   ]
  },
  {
   "cell_type": "code",
   "execution_count": 5,
   "metadata": {},
   "outputs": [
    {
     "data": {
      "text/html": [
       "<div>\n",
       "<style scoped>\n",
       "    .dataframe tbody tr th:only-of-type {\n",
       "        vertical-align: middle;\n",
       "    }\n",
       "\n",
       "    .dataframe tbody tr th {\n",
       "        vertical-align: top;\n",
       "    }\n",
       "\n",
       "    .dataframe thead th {\n",
       "        text-align: right;\n",
       "    }\n",
       "</style>\n",
       "<table border=\"1\" class=\"dataframe\">\n",
       "  <thead>\n",
       "    <tr style=\"text-align: right;\">\n",
       "      <th></th>\n",
       "      <th>Airline</th>\n",
       "      <th>Date_of_Journey</th>\n",
       "      <th>Source</th>\n",
       "      <th>Destination</th>\n",
       "      <th>Route</th>\n",
       "      <th>Dep_Time</th>\n",
       "      <th>Arrival_Time</th>\n",
       "      <th>Duration</th>\n",
       "      <th>Total_Stops</th>\n",
       "      <th>Additional_Info</th>\n",
       "      <th>Price</th>\n",
       "    </tr>\n",
       "  </thead>\n",
       "  <tbody>\n",
       "    <tr>\n",
       "      <th>0</th>\n",
       "      <td>IndiGo</td>\n",
       "      <td>24/03/2019</td>\n",
       "      <td>Banglore</td>\n",
       "      <td>New Delhi</td>\n",
       "      <td>BLR → DEL</td>\n",
       "      <td>22:20</td>\n",
       "      <td>01:10 22 Mar</td>\n",
       "      <td>2h 50m</td>\n",
       "      <td>non-stop</td>\n",
       "      <td>No info</td>\n",
       "      <td>3897.0</td>\n",
       "    </tr>\n",
       "    <tr>\n",
       "      <th>1</th>\n",
       "      <td>Air India</td>\n",
       "      <td>1/05/2019</td>\n",
       "      <td>Kolkata</td>\n",
       "      <td>Banglore</td>\n",
       "      <td>CCU → IXR → BBI → BLR</td>\n",
       "      <td>05:50</td>\n",
       "      <td>13:15</td>\n",
       "      <td>7h 25m</td>\n",
       "      <td>2 stops</td>\n",
       "      <td>No info</td>\n",
       "      <td>7662.0</td>\n",
       "    </tr>\n",
       "    <tr>\n",
       "      <th>2</th>\n",
       "      <td>Jet Airways</td>\n",
       "      <td>9/06/2019</td>\n",
       "      <td>Delhi</td>\n",
       "      <td>Cochin</td>\n",
       "      <td>DEL → LKO → BOM → COK</td>\n",
       "      <td>09:25</td>\n",
       "      <td>04:25 10 Jun</td>\n",
       "      <td>19h</td>\n",
       "      <td>2 stops</td>\n",
       "      <td>No info</td>\n",
       "      <td>13882.0</td>\n",
       "    </tr>\n",
       "    <tr>\n",
       "      <th>3</th>\n",
       "      <td>IndiGo</td>\n",
       "      <td>12/05/2019</td>\n",
       "      <td>Kolkata</td>\n",
       "      <td>Banglore</td>\n",
       "      <td>CCU → NAG → BLR</td>\n",
       "      <td>18:05</td>\n",
       "      <td>23:30</td>\n",
       "      <td>5h 25m</td>\n",
       "      <td>1 stop</td>\n",
       "      <td>No info</td>\n",
       "      <td>6218.0</td>\n",
       "    </tr>\n",
       "    <tr>\n",
       "      <th>4</th>\n",
       "      <td>IndiGo</td>\n",
       "      <td>01/03/2019</td>\n",
       "      <td>Banglore</td>\n",
       "      <td>New Delhi</td>\n",
       "      <td>BLR → NAG → DEL</td>\n",
       "      <td>16:50</td>\n",
       "      <td>21:35</td>\n",
       "      <td>4h 45m</td>\n",
       "      <td>1 stop</td>\n",
       "      <td>No info</td>\n",
       "      <td>13302.0</td>\n",
       "    </tr>\n",
       "  </tbody>\n",
       "</table>\n",
       "</div>"
      ],
      "text/plain": [
       "       Airline Date_of_Journey    Source Destination                  Route  \\\n",
       "0       IndiGo      24/03/2019  Banglore   New Delhi              BLR → DEL   \n",
       "1    Air India       1/05/2019   Kolkata    Banglore  CCU → IXR → BBI → BLR   \n",
       "2  Jet Airways       9/06/2019     Delhi      Cochin  DEL → LKO → BOM → COK   \n",
       "3       IndiGo      12/05/2019   Kolkata    Banglore        CCU → NAG → BLR   \n",
       "4       IndiGo      01/03/2019  Banglore   New Delhi        BLR → NAG → DEL   \n",
       "\n",
       "  Dep_Time  Arrival_Time Duration Total_Stops Additional_Info    Price  \n",
       "0    22:20  01:10 22 Mar   2h 50m    non-stop         No info   3897.0  \n",
       "1    05:50         13:15   7h 25m     2 stops         No info   7662.0  \n",
       "2    09:25  04:25 10 Jun      19h     2 stops         No info  13882.0  \n",
       "3    18:05         23:30   5h 25m      1 stop         No info   6218.0  \n",
       "4    16:50         21:35   4h 45m      1 stop         No info  13302.0  "
      ]
     },
     "execution_count": 5,
     "metadata": {},
     "output_type": "execute_result"
    }
   ],
   "source": [
    "df.head()"
   ]
  },
  {
   "cell_type": "code",
   "execution_count": 6,
   "metadata": {
    "scrolled": true
   },
   "outputs": [
    {
     "name": "stdout",
     "output_type": "stream",
     "text": [
      "<class 'pandas.core.frame.DataFrame'>\n",
      "RangeIndex: 13354 entries, 0 to 13353\n",
      "Data columns (total 11 columns):\n",
      " #   Column           Non-Null Count  Dtype  \n",
      "---  ------           --------------  -----  \n",
      " 0   Airline          13354 non-null  object \n",
      " 1   Date_of_Journey  13354 non-null  object \n",
      " 2   Source           13354 non-null  object \n",
      " 3   Destination      13354 non-null  object \n",
      " 4   Route            13353 non-null  object \n",
      " 5   Dep_Time         13354 non-null  object \n",
      " 6   Arrival_Time     13354 non-null  object \n",
      " 7   Duration         13354 non-null  object \n",
      " 8   Total_Stops      13353 non-null  object \n",
      " 9   Additional_Info  13354 non-null  object \n",
      " 10  Price            10683 non-null  float64\n",
      "dtypes: float64(1), object(10)\n",
      "memory usage: 1.1+ MB\n"
     ]
    }
   ],
   "source": [
    "# check the data types of the dataset\n",
    "df.info()"
   ]
  },
  {
   "cell_type": "code",
   "execution_count": 7,
   "metadata": {},
   "outputs": [
    {
     "data": {
      "text/plain": [
       "Airline               0\n",
       "Date_of_Journey       0\n",
       "Source                0\n",
       "Destination           0\n",
       "Route                 1\n",
       "Dep_Time              0\n",
       "Arrival_Time          0\n",
       "Duration              0\n",
       "Total_Stops           1\n",
       "Additional_Info       0\n",
       "Price              2671\n",
       "dtype: int64"
      ]
     },
     "execution_count": 7,
     "metadata": {},
     "output_type": "execute_result"
    }
   ],
   "source": [
    "# check for null values\n",
    "df.isnull().sum()"
   ]
  },
  {
   "cell_type": "code",
   "execution_count": 8,
   "metadata": {},
   "outputs": [
    {
     "name": "stdout",
     "output_type": "stream",
     "text": [
      "Airline: ['IndiGo' 'Air India' 'Jet Airways' 'SpiceJet' 'Multiple carriers' 'GoAir'\n",
      " 'Vistara' 'Air Asia' 'Vistara Premium economy' 'Jet Airways Business'\n",
      " 'Multiple carriers Premium economy' 'Trujet']\n",
      "Source: ['Banglore' 'Kolkata' 'Delhi' 'Chennai' 'Mumbai']\n",
      "Destination: ['New Delhi' 'Banglore' 'Cochin' 'Kolkata' 'Delhi' 'Hyderabad']\n",
      "Total_Stops: ['non-stop' '2 stops' '1 stop' '3 stops' nan '4 stops']\n",
      "Additional_Info: ['No info' 'In-flight meal not included' 'No check-in baggage included'\n",
      " '1 Short layover' 'No Info' '1 Long layover' 'Change airports'\n",
      " 'Business class' 'Red-eye flight' '2 Long layover']\n"
     ]
    }
   ],
   "source": [
    "# check the unique values\n",
    "print(\"Airline:\",df.Airline.unique())\n",
    "print(\"Source:\",df.Source.unique())\n",
    "print(\"Destination:\",df.Destination.unique())\n",
    "print(\"Total_Stops:\",df.Total_Stops.unique())\n",
    "print(\"Additional_Info:\",df.Additional_Info.unique())"
   ]
  },
  {
   "cell_type": "code",
   "execution_count": 9,
   "metadata": {},
   "outputs": [],
   "source": [
    "# remove the nan value from the Total Stops\n",
    "# df = df[~df.Total_Stops.isnull()==True]"
   ]
  },
  {
   "cell_type": "code",
   "execution_count": 10,
   "metadata": {},
   "outputs": [],
   "source": [
    "# replace 'non-stop' by '0 stops' and remove the 'stops'\n",
    "df['Total_Stops'] = df['Total_Stops'].apply(lambda x: str(x).replace('non-stop', '0 stops'))\n",
    "df['Total_Stops'] = df['Total_Stops'].apply(lambda x: x.split(' ')[0])"
   ]
  },
  {
   "cell_type": "code",
   "execution_count": 11,
   "metadata": {},
   "outputs": [],
   "source": [
    "# fill missing values with 'Missing' text and mean\n",
    "df.Route = df.Route.fillna('Missing')\n",
    "Total_Stops_median = df.Total_Stops.median()\n",
    "df.Total_Stops = df.Total_Stops.apply(lambda x: Total_Stops_median if x == 'nan' else x).astype(int)"
   ]
  },
  {
   "cell_type": "code",
   "execution_count": 12,
   "metadata": {},
   "outputs": [],
   "source": [
    "# capitalize the first letter of additional info\n",
    "df['Additional_Info'] = df['Additional_Info'].apply(lambda x: x.capitalize())"
   ]
  },
  {
   "cell_type": "code",
   "execution_count": 13,
   "metadata": {},
   "outputs": [],
   "source": [
    "# convert the Date of journey, Dep time to date format\n",
    "df['Date_of_Journey'] = pd.to_datetime(df['Date_of_Journey'], format='%d/%m/%Y')"
   ]
  },
  {
   "cell_type": "code",
   "execution_count": 14,
   "metadata": {},
   "outputs": [],
   "source": [
    "# extract the date, month, year and weekday from date of journey\n",
    "df['Dep_Day'] = df['Date_of_Journey'].apply(lambda x: x.day)\n",
    "df['Dep_Month'] = df['Date_of_Journey'].apply(lambda x: x.month)\n",
    "df['Dep_Year'] = df['Date_of_Journey'].apply(lambda x: x.year)\n",
    "df['Dep_Weekday'] = df['Date_of_Journey'].apply(lambda x: x.weekday())"
   ]
  },
  {
   "cell_type": "code",
   "execution_count": 15,
   "metadata": {},
   "outputs": [],
   "source": [
    "# split the dep time and arrival time\n",
    "df['Dep_Time'] = df['Dep_Time'].str.split(' ').str[0]\n",
    "df['Arrival_Time'] = df['Arrival_Time'].str.split(' ').str[0]"
   ]
  },
  {
   "cell_type": "code",
   "execution_count": 16,
   "metadata": {},
   "outputs": [],
   "source": [
    "# convert the dep time and arrival time to time format\n",
    "df['Dep_Time'] = pd.to_datetime(df['Dep_Time'], format='%H:%M').dt.time\n",
    "df['Arrival_Time'] = pd.to_datetime(df['Arrival_Time'], format='%H:%M').dt.time"
   ]
  },
  {
   "cell_type": "code",
   "execution_count": 17,
   "metadata": {},
   "outputs": [],
   "source": [
    "# create date of arrival column\n",
    "df['Date_of_Arrival'] = (df.apply(lambda x: pd.Timestamp.combine(x.Date_of_Journey, x.Dep_Time), axis=1) \n",
    "                        + pd.to_timedelta(df.Duration)).dt.date"
   ]
  },
  {
   "cell_type": "code",
   "execution_count": 18,
   "metadata": {},
   "outputs": [],
   "source": [
    "# extract the date, month, year and weekday from date of arrival\n",
    "df['Arrival_Day'] = df['Date_of_Arrival'].apply(lambda x: x.day)\n",
    "df['Arrival_Month'] = df['Date_of_Arrival'].apply(lambda x: x.month)\n",
    "df['Arrival_Year'] = df['Date_of_Arrival'].apply(lambda x: x.year)\n",
    "df['Arrival_Weekday'] = df['Date_of_Arrival'].apply(lambda x: x.weekday())"
   ]
  },
  {
   "cell_type": "code",
   "execution_count": 19,
   "metadata": {},
   "outputs": [],
   "source": [
    "# split dep time and arrival time in hours and minutes\n",
    "df['Dep_Hour'] = df['Dep_Time'].apply(lambda x: x.hour)\n",
    "df['Dep_Min'] = df['Dep_Time'].apply(lambda x: x.minute)\n",
    "df['Arrival_Hour'] = df['Arrival_Time'].apply(lambda x: x.hour)\n",
    "df['Arrival_Min'] = df['Arrival_Time'].apply(lambda x: x.minute)"
   ]
  },
  {
   "cell_type": "code",
   "execution_count": 20,
   "metadata": {},
   "outputs": [],
   "source": [
    "# get dep and arrival time of day\n",
    "def get_timeofday(time):\n",
    "    if (time < 6):\n",
    "        return 'Early Morning'\n",
    "    elif (time >= 6 and time < 12):\n",
    "        return 'Morning'\n",
    "    elif (time >= 12 and time < 16):\n",
    "        return 'Afternoon'\n",
    "    elif (time >= 16 and time < 20):\n",
    "        return 'Evening'\n",
    "    else:\n",
    "        return 'Night'\n",
    "\n",
    "df['Dep_timeofday'] = df['Dep_Hour'].apply(get_timeofday)   \n",
    "df['Arrival_timeofday'] = df['Arrival_Hour'].apply(get_timeofday) "
   ]
  },
  {
   "cell_type": "code",
   "execution_count": 21,
   "metadata": {},
   "outputs": [],
   "source": [
    "# define function to get hours from duration\n",
    "def get_hours(duration):\n",
    "    if 'h' in duration:\n",
    "        return int(duration.split(' ')[0].strip('h'))\n",
    "    else:\n",
    "        return 0\n",
    "\n",
    "# define function to get minutes from duration\n",
    "def get_minutes(duration):\n",
    "    min = duration.split(' ')\n",
    "    if len(min)==1:\n",
    "        if 'm' in duration:\n",
    "            return int(duration.split(' ')[0].strip('m'))\n",
    "        else:\n",
    "            return 0\n",
    "    else:\n",
    "        return int(duration.split(' ')[1].strip('m'))\n",
    "\n",
    "# calculate the duration in minutes\n",
    "df['Duration'] = df['Duration'].apply(lambda x: get_hours(x)*60 + get_minutes(x))"
   ]
  },
  {
   "cell_type": "code",
   "execution_count": 22,
   "metadata": {},
   "outputs": [
    {
     "name": "stderr",
     "output_type": "stream",
     "text": [
      "C:\\ProgramData\\Anaconda3\\lib\\site-packages\\ipykernel_launcher.py:7: SettingWithCopyWarning: \n",
      "A value is trying to be set on a copy of a slice from a DataFrame\n",
      "\n",
      "See the caveats in the documentation: https://pandas.pydata.org/pandas-docs/stable/user_guide/indexing.html#returning-a-view-versus-a-copy\n",
      "  import sys\n"
     ]
    }
   ],
   "source": [
    "# create seperate columns from the route for each values in the route\n",
    "for i in df.index:\n",
    "    route_list = df.Route[i].split(' → ')\n",
    "    for r in range(len(route_list)):\n",
    "        if not 'Route_'+str(r+1) in df.columns:\n",
    "            df['Route_'+str(r+1)] = 'None'\n",
    "        df['Route_'+str(r+1)][i] = route_list[r]"
   ]
  },
  {
   "cell_type": "code",
   "execution_count": 23,
   "metadata": {},
   "outputs": [],
   "source": [
    "# define booking class for each booking\n",
    "bclass = {\n",
    "            'IndiGo': 'Economy',\n",
    "            'Air India': 'Economy',\n",
    "            'Jet Airways': 'Economy',\n",
    "            'SpiceJet': 'Economy',\n",
    "            'Multiple carriers': 'Economy',\n",
    "            'GoAir': 'Economy',\n",
    "            'Vistara': 'Economy',\n",
    "            'Air Asia': 'Economy',\n",
    "            'Vistara Premium economy': 'Premium Economy',\n",
    "            'Jet Airways Business': 'Business',\n",
    "            'Multiple carriers Premium economy': 'Premium Economy',\n",
    "            'Trujet': 'Economy'\n",
    "        }\n",
    "\n",
    "df['Class'] = df['Airline'].map(bclass)"
   ]
  },
  {
   "cell_type": "code",
   "execution_count": 24,
   "metadata": {},
   "outputs": [],
   "source": [
    "# drop columns that are not required\n",
    "df.drop(['Date_of_Journey', 'Date_of_Arrival', 'Route', 'Dep_Time', 'Arrival_Time'], axis=1, inplace=True)"
   ]
  },
  {
   "cell_type": "code",
   "execution_count": 25,
   "metadata": {},
   "outputs": [
    {
     "data": {
      "text/plain": [
       "array(['Airline', 'Source', 'Destination', 'Duration', 'Total_Stops',\n",
       "       'Additional_Info', 'Price', 'Dep_Day', 'Dep_Month', 'Dep_Year',\n",
       "       'Dep_Weekday', 'Arrival_Day', 'Arrival_Month', 'Arrival_Year',\n",
       "       'Arrival_Weekday', 'Dep_Hour', 'Dep_Min', 'Arrival_Hour',\n",
       "       'Arrival_Min', 'Dep_timeofday', 'Arrival_timeofday', 'Route_1',\n",
       "       'Route_2', 'Route_3', 'Route_4', 'Route_5', 'Route_6', 'Class'],\n",
       "      dtype=object)"
      ]
     },
     "execution_count": 25,
     "metadata": {},
     "output_type": "execute_result"
    }
   ],
   "source": [
    "# get the column names\n",
    "df.columns.values"
   ]
  },
  {
   "cell_type": "code",
   "execution_count": 26,
   "metadata": {},
   "outputs": [],
   "source": [
    "# reorder the columns\n",
    "df = df[['Airline', 'Class', 'Source', 'Destination', 'Duration', 'Dep_timeofday', 'Dep_Day', 'Dep_Month', 'Dep_Year',\n",
    "         'Dep_Weekday', 'Dep_Hour', 'Dep_Min', 'Arrival_timeofday', 'Arrival_Day', 'Arrival_Month', 'Arrival_Year',\n",
    "         'Arrival_Weekday', 'Arrival_Hour', 'Arrival_Min', 'Additional_Info', 'Total_Stops', \n",
    "         'Route_1', 'Route_2', 'Route_3', 'Route_4', 'Route_5', 'Route_6', 'Price']]"
   ]
  },
  {
   "cell_type": "code",
   "execution_count": 27,
   "metadata": {},
   "outputs": [
    {
     "name": "stdout",
     "output_type": "stream",
     "text": [
      "<class 'pandas.core.frame.DataFrame'>\n",
      "RangeIndex: 13354 entries, 0 to 13353\n",
      "Data columns (total 28 columns):\n",
      " #   Column             Non-Null Count  Dtype  \n",
      "---  ------             --------------  -----  \n",
      " 0   Airline            13354 non-null  object \n",
      " 1   Class              13354 non-null  object \n",
      " 2   Source             13354 non-null  object \n",
      " 3   Destination        13354 non-null  object \n",
      " 4   Duration           13354 non-null  int64  \n",
      " 5   Dep_timeofday      13354 non-null  object \n",
      " 6   Dep_Day            13354 non-null  int64  \n",
      " 7   Dep_Month          13354 non-null  int64  \n",
      " 8   Dep_Year           13354 non-null  int64  \n",
      " 9   Dep_Weekday        13354 non-null  int64  \n",
      " 10  Dep_Hour           13354 non-null  int64  \n",
      " 11  Dep_Min            13354 non-null  int64  \n",
      " 12  Arrival_timeofday  13354 non-null  object \n",
      " 13  Arrival_Day        13354 non-null  int64  \n",
      " 14  Arrival_Month      13354 non-null  int64  \n",
      " 15  Arrival_Year       13354 non-null  int64  \n",
      " 16  Arrival_Weekday    13354 non-null  int64  \n",
      " 17  Arrival_Hour       13354 non-null  int64  \n",
      " 18  Arrival_Min        13354 non-null  int64  \n",
      " 19  Additional_Info    13354 non-null  object \n",
      " 20  Total_Stops        13354 non-null  int32  \n",
      " 21  Route_1            13354 non-null  object \n",
      " 22  Route_2            13354 non-null  object \n",
      " 23  Route_3            13354 non-null  object \n",
      " 24  Route_4            13354 non-null  object \n",
      " 25  Route_5            13354 non-null  object \n",
      " 26  Route_6            13354 non-null  object \n",
      " 27  Price              10683 non-null  float64\n",
      "dtypes: float64(1), int32(1), int64(13), object(13)\n",
      "memory usage: 2.8+ MB\n"
     ]
    }
   ],
   "source": [
    "df.info()"
   ]
  },
  {
   "cell_type": "code",
   "execution_count": 28,
   "metadata": {},
   "outputs": [
    {
     "data": {
      "text/html": [
       "<div>\n",
       "<style scoped>\n",
       "    .dataframe tbody tr th:only-of-type {\n",
       "        vertical-align: middle;\n",
       "    }\n",
       "\n",
       "    .dataframe tbody tr th {\n",
       "        vertical-align: top;\n",
       "    }\n",
       "\n",
       "    .dataframe thead th {\n",
       "        text-align: right;\n",
       "    }\n",
       "</style>\n",
       "<table border=\"1\" class=\"dataframe\">\n",
       "  <thead>\n",
       "    <tr style=\"text-align: right;\">\n",
       "      <th></th>\n",
       "      <th>Airline</th>\n",
       "      <th>Class</th>\n",
       "      <th>Source</th>\n",
       "      <th>Destination</th>\n",
       "      <th>Duration</th>\n",
       "      <th>Dep_timeofday</th>\n",
       "      <th>Dep_Day</th>\n",
       "      <th>Dep_Month</th>\n",
       "      <th>Dep_Year</th>\n",
       "      <th>Dep_Weekday</th>\n",
       "      <th>...</th>\n",
       "      <th>Arrival_Min</th>\n",
       "      <th>Additional_Info</th>\n",
       "      <th>Total_Stops</th>\n",
       "      <th>Route_1</th>\n",
       "      <th>Route_2</th>\n",
       "      <th>Route_3</th>\n",
       "      <th>Route_4</th>\n",
       "      <th>Route_5</th>\n",
       "      <th>Route_6</th>\n",
       "      <th>Price</th>\n",
       "    </tr>\n",
       "  </thead>\n",
       "  <tbody>\n",
       "    <tr>\n",
       "      <th>0</th>\n",
       "      <td>IndiGo</td>\n",
       "      <td>Economy</td>\n",
       "      <td>Banglore</td>\n",
       "      <td>New Delhi</td>\n",
       "      <td>170</td>\n",
       "      <td>Night</td>\n",
       "      <td>24</td>\n",
       "      <td>3</td>\n",
       "      <td>2019</td>\n",
       "      <td>6</td>\n",
       "      <td>...</td>\n",
       "      <td>10</td>\n",
       "      <td>No info</td>\n",
       "      <td>0</td>\n",
       "      <td>BLR</td>\n",
       "      <td>DEL</td>\n",
       "      <td>None</td>\n",
       "      <td>None</td>\n",
       "      <td>None</td>\n",
       "      <td>None</td>\n",
       "      <td>3897.0</td>\n",
       "    </tr>\n",
       "    <tr>\n",
       "      <th>1</th>\n",
       "      <td>Air India</td>\n",
       "      <td>Economy</td>\n",
       "      <td>Kolkata</td>\n",
       "      <td>Banglore</td>\n",
       "      <td>445</td>\n",
       "      <td>Early Morning</td>\n",
       "      <td>1</td>\n",
       "      <td>5</td>\n",
       "      <td>2019</td>\n",
       "      <td>2</td>\n",
       "      <td>...</td>\n",
       "      <td>15</td>\n",
       "      <td>No info</td>\n",
       "      <td>2</td>\n",
       "      <td>CCU</td>\n",
       "      <td>IXR</td>\n",
       "      <td>BBI</td>\n",
       "      <td>BLR</td>\n",
       "      <td>None</td>\n",
       "      <td>None</td>\n",
       "      <td>7662.0</td>\n",
       "    </tr>\n",
       "    <tr>\n",
       "      <th>2</th>\n",
       "      <td>Jet Airways</td>\n",
       "      <td>Economy</td>\n",
       "      <td>Delhi</td>\n",
       "      <td>Cochin</td>\n",
       "      <td>1140</td>\n",
       "      <td>Morning</td>\n",
       "      <td>9</td>\n",
       "      <td>6</td>\n",
       "      <td>2019</td>\n",
       "      <td>6</td>\n",
       "      <td>...</td>\n",
       "      <td>25</td>\n",
       "      <td>No info</td>\n",
       "      <td>2</td>\n",
       "      <td>DEL</td>\n",
       "      <td>LKO</td>\n",
       "      <td>BOM</td>\n",
       "      <td>COK</td>\n",
       "      <td>None</td>\n",
       "      <td>None</td>\n",
       "      <td>13882.0</td>\n",
       "    </tr>\n",
       "    <tr>\n",
       "      <th>3</th>\n",
       "      <td>IndiGo</td>\n",
       "      <td>Economy</td>\n",
       "      <td>Kolkata</td>\n",
       "      <td>Banglore</td>\n",
       "      <td>325</td>\n",
       "      <td>Evening</td>\n",
       "      <td>12</td>\n",
       "      <td>5</td>\n",
       "      <td>2019</td>\n",
       "      <td>6</td>\n",
       "      <td>...</td>\n",
       "      <td>30</td>\n",
       "      <td>No info</td>\n",
       "      <td>1</td>\n",
       "      <td>CCU</td>\n",
       "      <td>NAG</td>\n",
       "      <td>BLR</td>\n",
       "      <td>None</td>\n",
       "      <td>None</td>\n",
       "      <td>None</td>\n",
       "      <td>6218.0</td>\n",
       "    </tr>\n",
       "    <tr>\n",
       "      <th>4</th>\n",
       "      <td>IndiGo</td>\n",
       "      <td>Economy</td>\n",
       "      <td>Banglore</td>\n",
       "      <td>New Delhi</td>\n",
       "      <td>285</td>\n",
       "      <td>Evening</td>\n",
       "      <td>1</td>\n",
       "      <td>3</td>\n",
       "      <td>2019</td>\n",
       "      <td>4</td>\n",
       "      <td>...</td>\n",
       "      <td>35</td>\n",
       "      <td>No info</td>\n",
       "      <td>1</td>\n",
       "      <td>BLR</td>\n",
       "      <td>NAG</td>\n",
       "      <td>DEL</td>\n",
       "      <td>None</td>\n",
       "      <td>None</td>\n",
       "      <td>None</td>\n",
       "      <td>13302.0</td>\n",
       "    </tr>\n",
       "  </tbody>\n",
       "</table>\n",
       "<p>5 rows × 28 columns</p>\n",
       "</div>"
      ],
      "text/plain": [
       "       Airline    Class    Source Destination  Duration  Dep_timeofday  \\\n",
       "0       IndiGo  Economy  Banglore   New Delhi       170          Night   \n",
       "1    Air India  Economy   Kolkata    Banglore       445  Early Morning   \n",
       "2  Jet Airways  Economy     Delhi      Cochin      1140        Morning   \n",
       "3       IndiGo  Economy   Kolkata    Banglore       325        Evening   \n",
       "4       IndiGo  Economy  Banglore   New Delhi       285        Evening   \n",
       "\n",
       "   Dep_Day  Dep_Month  Dep_Year  Dep_Weekday  ...  Arrival_Min  \\\n",
       "0       24          3      2019            6  ...           10   \n",
       "1        1          5      2019            2  ...           15   \n",
       "2        9          6      2019            6  ...           25   \n",
       "3       12          5      2019            6  ...           30   \n",
       "4        1          3      2019            4  ...           35   \n",
       "\n",
       "   Additional_Info Total_Stops  Route_1  Route_2  Route_3  Route_4  Route_5  \\\n",
       "0          No info           0      BLR      DEL     None     None     None   \n",
       "1          No info           2      CCU      IXR      BBI      BLR     None   \n",
       "2          No info           2      DEL      LKO      BOM      COK     None   \n",
       "3          No info           1      CCU      NAG      BLR     None     None   \n",
       "4          No info           1      BLR      NAG      DEL     None     None   \n",
       "\n",
       "   Route_6    Price  \n",
       "0     None   3897.0  \n",
       "1     None   7662.0  \n",
       "2     None  13882.0  \n",
       "3     None   6218.0  \n",
       "4     None  13302.0  \n",
       "\n",
       "[5 rows x 28 columns]"
      ]
     },
     "execution_count": 28,
     "metadata": {},
     "output_type": "execute_result"
    }
   ],
   "source": [
    "df.head()"
   ]
  },
  {
   "cell_type": "code",
   "execution_count": 29,
   "metadata": {},
   "outputs": [
    {
     "name": "stderr",
     "output_type": "stream",
     "text": [
      "C:\\ProgramData\\Anaconda3\\lib\\site-packages\\pandas\\core\\frame.py:3997: SettingWithCopyWarning: \n",
      "A value is trying to be set on a copy of a slice from a DataFrame\n",
      "\n",
      "See the caveats in the documentation: https://pandas.pydata.org/pandas-docs/stable/user_guide/indexing.html#returning-a-view-versus-a-copy\n",
      "  errors=errors,\n"
     ]
    }
   ],
   "source": [
    "# split the train and test dataset\n",
    "train_df = df[:train_df.shape[0]]\n",
    "test_df = df[train_df.shape[0]:]\n",
    "\n",
    "# drop price from test_df\n",
    "test_df.drop('Price', axis=1, inplace=True)"
   ]
  },
  {
   "cell_type": "code",
   "execution_count": 30,
   "metadata": {
    "scrolled": true
   },
   "outputs": [
    {
     "name": "stdout",
     "output_type": "stream",
     "text": [
      "Train shape: (10683, 28)\n",
      "Test shape: (2671, 27)\n"
     ]
    }
   ],
   "source": [
    "print(\"Train shape:\",train_df.shape)\n",
    "print(\"Test shape:\",test_df.shape)"
   ]
  },
  {
   "cell_type": "markdown",
   "metadata": {},
   "source": [
    "### EDA"
   ]
  },
  {
   "cell_type": "code",
   "execution_count": 31,
   "metadata": {},
   "outputs": [
    {
     "data": {
      "text/plain": [
       "<matplotlib.axes._subplots.AxesSubplot at 0x26c8061c908>"
      ]
     },
     "execution_count": 31,
     "metadata": {},
     "output_type": "execute_result"
    },
    {
     "data": {
      "image/png": "[encoded data removed]",
      "text/plain": [
       "<Figure size 432x288 with 1 Axes>"
      ]
     },
     "metadata": {
      "needs_background": "light"
     },
     "output_type": "display_data"
    }
   ],
   "source": [
    "# plt.subplots(figsize=[15,5])\n",
    "plt.xticks(rotation=90)\n",
    "sns.boxplot(train_df.Airline, train_df.Price)"
   ]
  },
  {
   "cell_type": "code",
   "execution_count": 312,
   "metadata": {},
   "outputs": [
    {
     "data": {
      "text/plain": [
       "<matplotlib.axes._subplots.AxesSubplot at 0x26c900ae6c8>"
      ]
     },
     "execution_count": 312,
     "metadata": {},
     "output_type": "execute_result"
    },
    {
     "data": {
      "image/png": "[encoded data removed]",
      "text/plain": [
       "<Figure size 432x288 with 1 Axes>"
      ]
     },
     "metadata": {
      "needs_background": "light"
     },
     "output_type": "display_data"
    }
   ],
   "source": [
    "# check price distribution\n",
    "sns.distplot(train_df.Price)"
   ]
  },
  {
   "cell_type": "code",
   "execution_count": 33,
   "metadata": {},
   "outputs": [
    {
     "data": {
      "text/plain": [
       "<matplotlib.axes._subplots.AxesSubplot at 0x26c826c5988>"
      ]
     },
     "execution_count": 33,
     "metadata": {},
     "output_type": "execute_result"
    },
    {
     "data": {
      "image/png": "[encoded data removed]",
      "text/plain": [
       "<Figure size 432x288 with 1 Axes>"
      ]
     },
     "metadata": {
      "needs_background": "light"
     },
     "output_type": "display_data"
    }
   ],
   "source": [
    "# check log price distribution\n",
    "sns.distplot(np.log(train_df.Price))"
   ]
  },
  {
   "cell_type": "markdown",
   "metadata": {},
   "source": [
    "### One hot encoding"
   ]
  },
  {
   "cell_type": "code",
   "execution_count": 34,
   "metadata": {},
   "outputs": [],
   "source": [
    "columns = ['Airline', 'Class', 'Source', 'Destination', 'Duration',\n",
    "       'Dep_timeofday', 'Dep_Day', 'Dep_Month', 'Dep_Year', 'Dep_Weekday',\n",
    "       'Dep_Hour', 'Dep_Min', 'Arrival_timeofday', 'Arrival_Day',\n",
    "       'Arrival_Month', 'Arrival_Year', 'Arrival_Weekday', 'Arrival_Hour',\n",
    "       'Arrival_Min', 'Additional_Info', 'Total_Stops', 'Price']"
   ]
  },
  {
   "cell_type": "code",
   "execution_count": 35,
   "metadata": {
    "scrolled": false
   },
   "outputs": [],
   "source": [
    "train_df = pd.get_dummies(train_df)\n",
    "# train_df = pd.get_dummies(train_df[columns])"
   ]
  },
  {
   "cell_type": "code",
   "execution_count": 36,
   "metadata": {},
   "outputs": [],
   "source": [
    "X = train_df.drop('Price', axis=1)\n",
    "y = np.log(train_df.Price)"
   ]
  },
  {
   "cell_type": "markdown",
   "metadata": {},
   "source": [
    "### Train test split"
   ]
  },
  {
   "cell_type": "code",
   "execution_count": 37,
   "metadata": {},
   "outputs": [],
   "source": [
    "from sklearn.model_selection import train_test_split\n",
    "X_train, X_val, y_train, y_val = train_test_split(X, y, test_size=0.30, random_state=1)"
   ]
  },
  {
   "cell_type": "markdown",
   "metadata": {},
   "source": [
    "### Model outline"
   ]
  },
  {
   "cell_type": "code",
   "execution_count": 38,
   "metadata": {},
   "outputs": [],
   "source": [
    "import xgboost as xgb\n",
    "from sklearn.metrics import mean_squared_log_error\n",
    "from sklearn.model_selection import cross_val_score\n",
    "from sklearn.model_selection import RandomizedSearchCV\n",
    "from sklearn.metrics import make_scorer"
   ]
  },
  {
   "cell_type": "code",
   "execution_count": 102,
   "metadata": {},
   "outputs": [],
   "source": [
    "# define root mean square log error function\n",
    "def rmsle(y_true, y_pred):\n",
    "    return np.sqrt(mean_squared_log_error(np.exp(y_true), np.exp(y_pred)))"
   ]
  },
  {
   "cell_type": "markdown",
   "metadata": {},
   "source": [
    "#### XGBoost"
   ]
  },
  {
   "cell_type": "code",
   "execution_count": 97,
   "metadata": {},
   "outputs": [
    {
     "name": "stdout",
     "output_type": "stream",
     "text": [
      "[19:18:27] WARNING: src/objective/regression_obj.cu:152: reg:linear is now deprecated in favor of reg:squarederror.\n"
     ]
    },
    {
     "data": {
      "text/plain": [
       "XGBRegressor()"
      ]
     },
     "execution_count": 97,
     "metadata": {},
     "output_type": "execute_result"
    }
   ],
   "source": [
    "# define the model\n",
    "xgbr = xgb.XGBRegressor()\n",
    "xgbr.fit(X_train,y_train)"
   ]
  },
  {
   "cell_type": "code",
   "execution_count": 98,
   "metadata": {},
   "outputs": [
    {
     "name": "stdout",
     "output_type": "stream",
     "text": [
      "Score: 0.8785349449666788\n",
      "RMSLE: 0.17848041761250238\n"
     ]
    }
   ],
   "source": [
    "# check score on train dataset\n",
    "y_pred = xgbr.predict(X_train)\n",
    "print(\"Score:\", xgbr.score(X_train,y_train))\n",
    "print('RMSLE:', rmsle(y_train, y_pred))"
   ]
  },
  {
   "cell_type": "code",
   "execution_count": 99,
   "metadata": {},
   "outputs": [
    {
     "name": "stdout",
     "output_type": "stream",
     "text": [
      "Score: 0.8732670252119894\n",
      "RMSLE: 0.18396880953592074\n"
     ]
    }
   ],
   "source": [
    "# check score on validation dataset\n",
    "y_pred = xgbr.predict(X_val)\n",
    "print('Score:', xgbr.score(X_val,y_val))\n",
    "print('RMSLE:', np.sqrt(mean_squared_log_error(np.exp(y_val), np.exp(y_pred))))"
   ]
  },
  {
   "cell_type": "code",
   "execution_count": 103,
   "metadata": {},
   "outputs": [],
   "source": [
    "# define a custom scorer\n",
    "my_scorer = make_scorer(rmsle, greater_is_better=False)"
   ]
  },
  {
   "cell_type": "code",
   "execution_count": 105,
   "metadata": {},
   "outputs": [
    {
     "name": "stdout",
     "output_type": "stream",
     "text": [
      "[19:20:59] WARNING: src/objective/regression_obj.cu:152: reg:linear is now deprecated in favor of reg:squarederror.\n",
      "[19:21:03] WARNING: src/objective/regression_obj.cu:152: reg:linear is now deprecated in favor of reg:squarederror.\n",
      "[19:21:07] WARNING: src/objective/regression_obj.cu:152: reg:linear is now deprecated in favor of reg:squarederror.\n",
      "[19:21:11] WARNING: src/objective/regression_obj.cu:152: reg:linear is now deprecated in favor of reg:squarederror.\n",
      "[19:21:15] WARNING: src/objective/regression_obj.cu:152: reg:linear is now deprecated in favor of reg:squarederror.\n",
      "RMSLE: 0.18204617504470466\n"
     ]
    }
   ],
   "source": [
    "# score = cross_val_score(xgbr, X, y, scoring='neg_mean_squared_log_error', cv=5)\n",
    "score = cross_val_score(xgbr, X, y, scoring=my_scorer, cv=5)\n",
    "print(\"RMSLE:\", abs(score.mean()))"
   ]
  },
  {
   "cell_type": "markdown",
   "metadata": {},
   "source": [
    "#### Hyper parameter  tuning XGBoost"
   ]
  },
  {
   "cell_type": "code",
   "execution_count": 106,
   "metadata": {},
   "outputs": [],
   "source": [
    "n_estimators = [int(x) for x in np.linspace(start=100,stop=1200,num=12)]\n",
    "learning_rate = [0.05, 0.1, 0.2, 0.3, 0.5, 0.6]\n",
    "max_depth = [int(x) for x in np.linspace(start=5,stop=30,num=6)]\n",
    "subsample = [0.7, 0.8, 1]\n",
    "min_child_weight = [1, 3, 5, 7]\n",
    "\n",
    "parameters = {\n",
    "    'n_estimators': [1000],\n",
    "    'learning_rate': [0.3],\n",
    "    'max_depth': [10],\n",
    "    'subsample': [1],\n",
    "    'min_child_weight': [1]\n",
    "}\n",
    "\n",
    "xgbr = xgb.XGBRegressor()"
   ]
  },
  {
   "cell_type": "code",
   "execution_count": 108,
   "metadata": {},
   "outputs": [],
   "source": [
    "# define randomized search cross validation\n",
    "rsearch = RandomizedSearchCV(estimator=xgbr, param_distributions=parameters, scoring=my_scorer, cv=5, n_iter=10, verbose=1, random_state=1)"
   ]
  },
  {
   "cell_type": "code",
   "execution_count": 109,
   "metadata": {
    "scrolled": true
   },
   "outputs": [
    {
     "name": "stderr",
     "output_type": "stream",
     "text": [
      "C:\\ProgramData\\Anaconda3\\lib\\site-packages\\sklearn\\model_selection\\_search.py:282: UserWarning: The total space of parameters 1 is smaller than n_iter=10. Running 1 iterations. For exhaustive searches, use GridSearchCV.\n",
      "  % (grid_size, self.n_iter, grid_size), UserWarning)\n",
      "[Parallel(n_jobs=1)]: Using backend SequentialBackend with 1 concurrent workers.\n"
     ]
    },
    {
     "name": "stdout",
     "output_type": "stream",
     "text": [
      "Fitting 5 folds for each of 1 candidates, totalling 5 fits\n",
      "[19:22:48] WARNING: src/objective/regression_obj.cu:152: reg:linear is now deprecated in favor of reg:squarederror.\n",
      "[19:23:15] WARNING: src/objective/regression_obj.cu:152: reg:linear is now deprecated in favor of reg:squarederror.\n",
      "[19:23:40] WARNING: src/objective/regression_obj.cu:152: reg:linear is now deprecated in favor of reg:squarederror.\n",
      "[19:24:09] WARNING: src/objective/regression_obj.cu:152: reg:linear is now deprecated in favor of reg:squarederror.\n",
      "[19:24:37] WARNING: src/objective/regression_obj.cu:152: reg:linear is now deprecated in favor of reg:squarederror.\n"
     ]
    },
    {
     "name": "stderr",
     "output_type": "stream",
     "text": [
      "[Parallel(n_jobs=1)]: Done   5 out of   5 | elapsed:  2.3min finished\n"
     ]
    },
    {
     "name": "stdout",
     "output_type": "stream",
     "text": [
      "[19:25:03] WARNING: src/objective/regression_obj.cu:152: reg:linear is now deprecated in favor of reg:squarederror.\n"
     ]
    },
    {
     "data": {
      "text/plain": [
       "RandomizedSearchCV(cv=5, estimator=XGBRegressor(),\n",
       "                   param_distributions={'learning_rate': [0.3],\n",
       "                                        'max_depth': [10],\n",
       "                                        'min_child_weight': [1],\n",
       "                                        'n_estimators': [1000],\n",
       "                                        'subsample': [1]},\n",
       "                   random_state=1,\n",
       "                   scoring=make_scorer(rmsle, greater_is_better=False),\n",
       "                   verbose=1)"
      ]
     },
     "execution_count": 109,
     "metadata": {},
     "output_type": "execute_result"
    }
   ],
   "source": [
    "# fit the train dataset\n",
    "rsearch.fit(X_train,y_train)"
   ]
  },
  {
   "cell_type": "code",
   "execution_count": 111,
   "metadata": {},
   "outputs": [
    {
     "name": "stdout",
     "output_type": "stream",
     "text": [
      "RMSLE: 0.12281550683307751\n"
     ]
    }
   ],
   "source": [
    "# check the best score\n",
    "print(\"RMSLE:\", abs(rsearch.best_score_))"
   ]
  },
  {
   "cell_type": "code",
   "execution_count": 112,
   "metadata": {},
   "outputs": [
    {
     "data": {
      "text/plain": [
       "{'subsample': 1,\n",
       " 'n_estimators': 1000,\n",
       " 'min_child_weight': 1,\n",
       " 'max_depth': 10,\n",
       " 'learning_rate': 0.3}"
      ]
     },
     "execution_count": 112,
     "metadata": {},
     "output_type": "execute_result"
    }
   ],
   "source": [
    "# find the best parameter\n",
    "rsearch.best_params_"
   ]
  },
  {
   "cell_type": "code",
   "execution_count": 113,
   "metadata": {},
   "outputs": [
    {
     "name": "stdout",
     "output_type": "stream",
     "text": [
      "RMSLE: 0.11927736382838959\n"
     ]
    }
   ],
   "source": [
    "# check the validation score\n",
    "y_pred = rsearch.predict(X_val)\n",
    "print('RMSLE:', rmsle(y_val, y_pred))"
   ]
  },
  {
   "cell_type": "markdown",
   "metadata": {},
   "source": [
    "#### LightGBM"
   ]
  },
  {
   "cell_type": "code",
   "execution_count": 287,
   "metadata": {},
   "outputs": [],
   "source": [
    "import lightgbm as lgb"
   ]
  },
  {
   "cell_type": "code",
   "execution_count": 288,
   "metadata": {},
   "outputs": [
    {
     "name": "stdout",
     "output_type": "stream",
     "text": [
      "Training until validation scores don't improve for 100 rounds\n",
      "Did not meet early stopping. Best iteration is:\n",
      "[100]\tvalid_0's l2: 0.0169205\n"
     ]
    },
    {
     "data": {
      "text/plain": [
       "LGBMRegressor()"
      ]
     },
     "execution_count": 288,
     "metadata": {},
     "output_type": "execute_result"
    }
   ],
   "source": [
    "lgbm = lgb.LGBMRegressor()\n",
    "lgbm.fit(X_train, y_train, eval_set=[(X_val, y_val)], early_stopping_rounds=100, verbose=500)"
   ]
  },
  {
   "cell_type": "code",
   "execution_count": 289,
   "metadata": {},
   "outputs": [
    {
     "name": "stdout",
     "output_type": "stream",
     "text": [
      "Score: 0.952308431022703\n",
      "RMSLE: 0.11183774725118491\n"
     ]
    },
    {
     "data": {
      "text/plain": [
       "0.11183774725118491"
      ]
     },
     "execution_count": 289,
     "metadata": {},
     "output_type": "execute_result"
    }
   ],
   "source": [
    "# check score on train dataset\n",
    "y_pred = lgbm.predict(X_train)\n",
    "print(\"Score:\", lgbm.score(X_train,y_train))\n",
    "print('RMSLE:', rmsle(y_train, y_pred))\n",
    "np.sqrt(mean_squared_log_error(np.exp(y_train), np.exp(y_pred)))"
   ]
  },
  {
   "cell_type": "code",
   "execution_count": 290,
   "metadata": {},
   "outputs": [
    {
     "name": "stdout",
     "output_type": "stream",
     "text": [
      "Score: 0.936657656765881\n",
      "RMSLE: 0.1300615686381023\n"
     ]
    }
   ],
   "source": [
    "# check score on validation dataset\n",
    "y_pred = lgbm.predict(X_val)\n",
    "print(\"Score:\", lgbm.score(X_val,y_val))\n",
    "print('RMSLE:', rmsle(y_val, y_pred))"
   ]
  },
  {
   "cell_type": "markdown",
   "metadata": {},
   "source": [
    "#### Hyper parameter tuning LightGBM"
   ]
  },
  {
   "cell_type": "code",
   "execution_count": 291,
   "metadata": {},
   "outputs": [],
   "source": [
    "n_estimators = [int(x) for x in np.linspace(start=100,stop=1200,num=12)]\n",
    "learning_rate = [0.01, 0.05, 0.1, 0.2, 0.3, 0.5]\n",
    "max_depth = [int(x) for x in np.linspace(start=5,stop=30,num=6)]\n",
    "subsample = [0.7, 0.8, 1]\n",
    "min_child_weight = [1, 3, 5, 7]\n",
    "#     'task': 'train',\n",
    "#     'feature_fraction': 0.9,\n",
    "#     'bagging_fraction': 0.7,\n",
    "#     'bagging_freq': 10,\n",
    "parameters = {\n",
    "        'objective': ['regression'],\n",
    "        'boosting': ['gbdt'],\n",
    "        'num_iterations': n_estimators,\n",
    "        'learning_rate': learning_rate, \n",
    "        'num_leaves': [20, 30, 40, 50, 70],\n",
    "        'max_depth': [5, 10, 15, 20, 30],   \n",
    "        'min_data_in_leaf': [5, 7, 11, 15, 18],  \n",
    "        'max_bin': [2, 4, 7, 10, 20, 30] ,\n",
    "        'metric': ['l2_root', 'l2']\n",
    "         }"
   ]
  },
  {
   "cell_type": "code",
   "execution_count": 292,
   "metadata": {},
   "outputs": [],
   "source": [
    "rsearch_lgbm = RandomizedSearchCV(estimator=lgbm, param_distributions=parameters, scoring=my_scorer, cv=5, n_iter=100, verbose=1, random_state=1)"
   ]
  },
  {
   "cell_type": "code",
   "execution_count": 293,
   "metadata": {},
   "outputs": [
    {
     "name": "stdout",
     "output_type": "stream",
     "text": [
      "Fitting 5 folds for each of 100 candidates, totalling 500 fits\n"
     ]
    },
    {
     "name": "stderr",
     "output_type": "stream",
     "text": [
      "[Parallel(n_jobs=1)]: Using backend SequentialBackend with 1 concurrent workers.\n",
      "[Parallel(n_jobs=1)]: Done 500 out of 500 | elapsed:  8.5min finished\n"
     ]
    },
    {
     "data": {
      "text/plain": [
       "RandomizedSearchCV(cv=5, estimator=LGBMRegressor(), n_iter=100,\n",
       "                   param_distributions={'boosting': ['gbdt'],\n",
       "                                        'learning_rate': [0.01, 0.05, 0.1, 0.2,\n",
       "                                                          0.3, 0.5],\n",
       "                                        'max_bin': [2, 4, 7, 10, 20, 30],\n",
       "                                        'max_depth': [5, 10, 15, 20, 30],\n",
       "                                        'metric': ['l2_root', 'l2'],\n",
       "                                        'min_data_in_leaf': [5, 7, 11, 15, 18],\n",
       "                                        'num_iterations': [100, 200, 300, 400,\n",
       "                                                           500, 600, 700, 800,\n",
       "                                                           900, 1000, 1100,\n",
       "                                                           1200],\n",
       "                                        'num_leaves': [20, 30, 40, 50, 70],\n",
       "                                        'objective': ['regression']},\n",
       "                   random_state=1,\n",
       "                   scoring=make_scorer(rmsle, greater_is_better=False),\n",
       "                   verbose=1)"
      ]
     },
     "execution_count": 293,
     "metadata": {},
     "output_type": "execute_result"
    }
   ],
   "source": [
    "rsearch_lgbm.fit(X_train,y_train)"
   ]
  },
  {
   "cell_type": "code",
   "execution_count": 294,
   "metadata": {},
   "outputs": [
    {
     "data": {
      "text/plain": [
       "0.11515432527441519"
      ]
     },
     "execution_count": 294,
     "metadata": {},
     "output_type": "execute_result"
    }
   ],
   "source": [
    "# check score of training\n",
    "abs(rsearch_lgbm.best_score_)"
   ]
  },
  {
   "cell_type": "code",
   "execution_count": 297,
   "metadata": {},
   "outputs": [
    {
     "data": {
      "text/plain": [
       "{'objective': 'regression',\n",
       " 'num_leaves': 40,\n",
       " 'num_iterations': 800,\n",
       " 'min_data_in_leaf': 5,\n",
       " 'metric': 'l2_root',\n",
       " 'max_depth': 30,\n",
       " 'max_bin': 30,\n",
       " 'learning_rate': 0.05,\n",
       " 'boosting': 'gbdt'}"
      ]
     },
     "execution_count": 297,
     "metadata": {},
     "output_type": "execute_result"
    }
   ],
   "source": [
    "# get the best parameters\n",
    "rsearch_lgbm.best_params_"
   ]
  },
  {
   "cell_type": "code",
   "execution_count": 298,
   "metadata": {},
   "outputs": [
    {
     "name": "stdout",
     "output_type": "stream",
     "text": [
      "RMSLE: 0.1086486034249396\n"
     ]
    }
   ],
   "source": [
    "# check score on test dataset\n",
    "y_pred = rsearch_lgbm.predict(X_val)\n",
    "print('RMSLE:', rmsle(y_val, y_pred))"
   ]
  },
  {
   "cell_type": "markdown",
   "metadata": {},
   "source": [
    "### Plot scatter and distribution chart"
   ]
  },
  {
   "cell_type": "code",
   "execution_count": 299,
   "metadata": {},
   "outputs": [
    {
     "data": {
      "text/plain": [
       "<matplotlib.collections.PathCollection at 0x26c8e9e4408>"
      ]
     },
     "execution_count": 299,
     "metadata": {},
     "output_type": "execute_result"
    },
    {
     "data": {
      "image/png": "[encoded data removed]",
      "text/plain": [
       "<Figure size 432x288 with 1 Axes>"
      ]
     },
     "metadata": {
      "needs_background": "light"
     },
     "output_type": "display_data"
    }
   ],
   "source": [
    "# plot the predicted and validated values\n",
    "plt.scatter(y_pred, y_val)"
   ]
  },
  {
   "cell_type": "code",
   "execution_count": 305,
   "metadata": {},
   "outputs": [
    {
     "data": {
      "text/plain": [
       "<matplotlib.axes._subplots.AxesSubplot at 0x26c8edab608>"
      ]
     },
     "execution_count": 305,
     "metadata": {},
     "output_type": "execute_result"
    },
    {
     "data": {
      "image/png": "[encoded data removed]",
      "text/plain": [
       "<Figure size 432x288 with 1 Axes>"
      ]
     },
     "metadata": {
      "needs_background": "light"
     },
     "output_type": "display_data"
    }
   ],
   "source": [
    "# plot the difference in a distribution plot\n",
    "sns.distplot(y_val-y_pred)"
   ]
  },
  {
   "cell_type": "markdown",
   "metadata": {},
   "source": [
    "### Generate test file"
   ]
  },
  {
   "cell_type": "code",
   "execution_count": 119,
   "metadata": {},
   "outputs": [],
   "source": [
    "test_df = pd.get_dummies(test_df)\n",
    "y_pred = rsearch_lgbm.predict(test_df)"
   ]
  },
  {
   "cell_type": "code",
   "execution_count": null,
   "metadata": {},
   "outputs": [],
   "source": []
  },
  {
   "cell_type": "code",
   "execution_count": null,
   "metadata": {},
   "outputs": [],
   "source": []
  },
  {
   "cell_type": "code",
   "execution_count": 315,
   "metadata": {},
   "outputs": [
    {
     "name": "stdout",
     "output_type": "stream",
     "text": [
      "Airline: ['IndiGo' 'Air India' 'Jet Airways' 'SpiceJet' 'Multiple carriers' 'GoAir'\n",
      " 'Vistara' 'Air Asia' 'Vistara Premium economy' 'Jet Airways Business'\n",
      " 'Multiple carriers Premium economy' 'Trujet']\n",
      "Source: ['Banglore' 'Kolkata' 'Delhi' 'Chennai' 'Mumbai']\n",
      "Destination: ['New Delhi' 'Banglore' 'Cochin' 'Kolkata' 'Delhi' 'Hyderabad']\n",
      "Total_Stops: [0 2 1 3 4]\n",
      "Additional_Info: ['No info' 'In-flight meal not included' 'No check-in baggage included'\n",
      " '1 short layover' '1 long layover' 'Change airports' 'Business class'\n",
      " 'Red-eye flight' '2 long layover']\n"
     ]
    }
   ],
   "source": [
    "print(\"Airline:\",df[:train_df.shape[0]].Airline.unique())\n",
    "print(\"Source:\",df[:train_df.shape[0]].Source.unique())\n",
    "print(\"Destination:\",df[:train_df.shape[0]].Destination.unique())\n",
    "print(\"Total_Stops:\",df[:train_df.shape[0]].Total_Stops.unique())\n",
    "print(\"Additional_Info:\",df[:train_df.shape[0]].Additional_Info.unique())"
   ]
  },
  {
   "cell_type": "code",
   "execution_count": 316,
   "metadata": {},
   "outputs": [
    {
     "name": "stdout",
     "output_type": "stream",
     "text": [
      "Airline: ['Jet Airways' 'IndiGo' 'Multiple carriers' 'Air Asia' 'Air India'\n",
      " 'Vistara' 'SpiceJet' 'Vistara Premium economy' 'GoAir'\n",
      " 'Multiple carriers Premium economy' 'Jet Airways Business']\n",
      "Source: ['Delhi' 'Kolkata' 'Banglore' 'Mumbai' 'Chennai']\n",
      "Destination: ['Cochin' 'Banglore' 'Delhi' 'New Delhi' 'Hyderabad' 'Kolkata']\n",
      "Total_Stops: [1 0 2 3 4]\n",
      "Additional_Info: ['No info' 'In-flight meal not included' 'No check-in baggage included'\n",
      " '1 long layover' 'Business class' 'Change airports']\n"
     ]
    }
   ],
   "source": [
    "print(\"Airline:\",df[train_df.shape[0]:].Airline.unique())\n",
    "print(\"Source:\",df[train_df.shape[0]:].Source.unique())\n",
    "print(\"Destination:\",df[train_df.shape[0]:].Destination.unique())\n",
    "print(\"Total_Stops:\",df[train_df.shape[0]:].Total_Stops.unique())\n",
    "print(\"Additional_Info:\",df[train_df.shape[0]:].Additional_Info.unique())"
   ]
  },
  {
   "cell_type": "code",
   "execution_count": null,
   "metadata": {},
   "outputs": [],
   "source": []
  }
 ],
 "metadata": {
  "kernelspec": {
   "display_name": "Python 3",
   "language": "python",
   "name": "python3"
  },
  "language_info": {
   "codemirror_mode": {
    "name": "ipython",
    "version": 3
   },
   "file_extension": ".py",
   "mimetype": "text/x-python",
   "name": "python",
   "nbconvert_exporter": "python",
   "pygments_lexer": "ipython3",
   "version": "3.7.6"
  }
 },
 "nbformat": 4,
 "nbformat_minor": 4
}
